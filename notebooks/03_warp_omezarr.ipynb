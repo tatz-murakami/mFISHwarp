{
 "cells": [
  {
   "cell_type": "code",
   "execution_count": null,
   "id": "164cb5fb-af20-4e32-b761-e0cc6d5b1ef4",
   "metadata": {
    "tags": []
   },
   "outputs": [],
   "source": [
    "import os\n",
    "os.environ[\"CUDA_DEVICE_ORDER\"]=\"PCI_BUS_ID\"\n",
    "os.environ[\"CUDA_VISIBLE_DEVICES\"]=\"0,1\"\n",
    "\n",
    "import numpy as np\n",
    "import napari\n",
    "\n",
    "import dask_image\n",
    "import dask.array as da\n",
    "import dask\n",
    "import zarr\n",
    "\n",
    "import mFISHwarp.transform\n",
    "import mFISHwarp.utils\n",
    "import mFISHwarp.dask_stitch\n",
    "import mFISHwarp.zarr\n",
    "\n",
    "import ray\n",
    "\n",
    "from ome_zarr.writer import write_multiscales_metadata"
   ]
  },
  {
   "cell_type": "markdown",
   "id": "3ee53117-0899-4da1-aa1c-19c417fed86b",
   "metadata": {},
   "source": [
    "### Lazily load images as dask"
   ]
  },
  {
   "cell_type": "code",
   "execution_count": null,
   "id": "6faf3db6-4503-4329-908b-5cbb8760c3ff",
   "metadata": {},
   "outputs": [],
   "source": [
    "# set path\n",
    "io_path = '/mnt/ampa02_data01/tmurakami/kidney/registration'\n",
    "fix_n5_path = '/mnt/ampa02_data01/tmurakami/kidney/240614_kidney_finescan/fused/fused.n5' # zarr with pyramid resolution\n",
    "mov_n5_path = '/mnt/ampa02_data01/tmurakami/kidney/240709_kidney-2nd-round-finescan/fused/fused.n5'\n",
    "\n",
    "displacement_overlap_path = os.path.join(io_path,'displacements_overlap.zarr') \n",
    "\n",
    "# set saving path\n",
    "moved_path = os.path.join(io_path, 'R02_to_R01ch488_2.zarr')\n",
    "\n",
    "# create Zarr file object\n",
    "fix_zarr = zarr.open(store=zarr.N5Store(fix_n5_path), mode='r')\n",
    "mov_zarr = zarr.open(store=zarr.N5Store(mov_n5_path), mode='r')\n",
    "displacement_overlap_zarr = zarr.open(displacement_overlap_path, mode='r')\n",
    "\n",
    "# zarr to dask\n",
    "displacement_overlap = da.from_zarr(displacement_overlap_zarr, chunks=displacement_overlap_zarr.chunks[:-1]+(3,))\n",
    "\n",
    "# load images as zarr\n",
    "fix_l = fix_zarr['setup3']['timepoint0']['s1']\n",
    "fix = fix_zarr['setup3']['timepoint0']['s0']\n",
    "\n",
    "mov_n5_setups = list(mov_zarr.keys())\n",
    "# mov = mov_zarr[mov_n5_setups[2]]['timepoint0']['s0'] # fix here to apply to all color.\n",
    "fix_da = da.from_zarr(fix)"
   ]
  },
  {
   "cell_type": "markdown",
   "id": "134bc220-fda8-42e5-a493-566b4b467814",
   "metadata": {},
   "source": [
    "### Make fused displacement field"
   ]
  },
  {
   "cell_type": "code",
   "execution_count": null,
   "id": "736abcac-6163-458a-94d8-fe2cc46615f8",
   "metadata": {
    "tags": []
   },
   "outputs": [],
   "source": [
    "# get overlap information and the original chunk size of displacement field\n",
    "overlap = displacement_overlap_zarr.attrs['overlap_size'][:-1]# tuple((x-y)//2 for x,y in zip(mFISHwarp.utils.chunks_from_dask(displacement_overlap)[:-1] ,blocksize)) # I should use attributes from zarr.\n",
    "# displacement_nooverlap is used only to get chunk size information.\n",
    "displacement_nooverlap = da.overlap.trim_overlap(displacement_overlap, tuple(overlap)+(0,), boundary='reflect')\n",
    "blocksize = mFISHwarp.utils.chunks_from_dask(displacement_nooverlap)[:-1]\n",
    "\n",
    "# trim the outside of the overlapping regions to remove the erroneous outer edge.\n",
    "trimming_factor = 0.75\n",
    "trimming_range = tuple(round(i*trimming_factor) for i in overlap)\n",
    "\n",
    "# only suboverlap area is used to fuse the displacement\n",
    "trimmed_displacement_overlap = da.overlap.trim_overlap(displacement_overlap, trimming_range+(0,), boundary='reflect')\n",
    "suboverlap = tuple((x-y)//2 for x,y in zip(mFISHwarp.utils.chunks_from_dask(trimmed_displacement_overlap)[:-1] ,blocksize))\n",
    "\n",
    "# stitch displacement. Note the shape of the displacement is interger fold of the chunk size.\n",
    "displacement = mFISHwarp.dask_stitch.stitch_blocks(\n",
    "    trimmed_displacement_overlap, \n",
    "    blocksize, \n",
    "    suboverlap, \n",
    "    displacement_nooverlap.chunks# need full chunk information\n",
    ")\n",
    "\n",
    "### upsample the displacement field because the displacement might be calculated using downsampled image\n",
    "# set rescale factors\n",
    "rescale_constant = tuple((np.array(fix.shape) / np.array(displacement.shape[:-1])).round().astype(int)) # upsampling ratio in zyx\n",
    "out_chunk_size = (256,256,256) # too small makes the calculation very slow\n",
    "\n",
    "# prepare dask array for upsampling\n",
    "upsampled_displacement = mFISHwarp.transform.upscale_displacement_gpu(\n",
    "    displacement,\n",
    "    rescale_constant,\n",
    "    out_chunk_size=out_chunk_size\n",
    ")\n",
    "\n",
    "# get chunk info to save in zarr\n",
    "chunk_info = (da.rechunk(fix_da, out_chunk_size)).chunks\n",
    "# get ray id\n",
    "upsampled_displacement_id = ray.put(upsampled_displacement)"
   ]
  },
  {
   "cell_type": "markdown",
   "id": "7cda500b-f1c2-459a-a84d-bff3ede71e20",
   "metadata": {},
   "source": [
    "### Create zarr to save the warped image"
   ]
  },
  {
   "cell_type": "code",
   "execution_count": null,
   "id": "8110384a-33d8-4117-a9c2-0c167250c630",
   "metadata": {
    "tags": []
   },
   "outputs": [],
   "source": [
    "physical_scale = (1.0,2.0,1.3,1.3)\n",
    "downscale_factor = (1,2,2,2)\n",
    "pyramid_level = 5\n",
    "axes_info = ['c','z','y','x']\n",
    "\n",
    "# Create the zarr group\n",
    "store = zarr.DirectoryStore(moved_path, dimension_separator='/')\n",
    "root = zarr.group(store=store)\n",
    "# create dataset to save the highest resolution. the name should be '0' according to ome-zarr spec.\n",
    "root.create_dataset('0', shape=(len(mov_n5_setups),)+fix.shape, chunks=(1,)+out_chunk_size, dtype=fix.dtype)\n",
    "\n",
    "# write metadata for the zarr using ome-zarr library\n",
    "datasets = mFISHwarp.zarr.datasets_metadata_generator(physical_scale, downscale_factor, pyramid_level)\n",
    "write_multiscales_metadata(root, datasets=datasets, axes=axes_info)"
   ]
  },
  {
   "cell_type": "markdown",
   "id": "68c8c7a6-7b65-40cb-bcce-1b71676c0200",
   "metadata": {},
   "source": [
    "### Warp images"
   ]
  },
  {
   "cell_type": "code",
   "execution_count": null,
   "id": "589106a6-0cca-44f3-bcf0-3fc034842c42",
   "metadata": {},
   "outputs": [],
   "source": [
    "# \n",
    "index_list = list(np.ndindex(*fix_da.numblocks))\n",
    "\n",
    "for i, setup in enumerate(mov_n5_setups):\n",
    "    mov = mov_zarr[setup]['timepoint0']['s0']\n",
    "    \n",
    "    @ray.remote(num_gpus=0.2)\n",
    "    def warp_block(index, upsampled_displacement):\n",
    "        disp = upsampled_displacement.blocks[index]\n",
    "\n",
    "        slicer = tuple(slice(sum(i[:j]),sum(i[:j])+i[j]) for i, j in zip(chunk_info,index))\n",
    "        chunk_shape = tuple(i[j] for i, j in zip(chunk_info,index))\n",
    "\n",
    "        disp = mFISHwarp.transform.pad_trim_array_to_size(disp, chunk_shape+(3,), mode='edge') # This is because at the edge chunks do not always have same shape as slice\n",
    "\n",
    "        root['0'][(i,)+slicer] = mFISHwarp.transform.transform_block_gpu(disp, mov, size_limit=1024*1024*1024)\n",
    "        \n",
    "    for index in index_list:\n",
    "        warp_block.remote(index, upsampled_displacement_id)"
   ]
  },
  {
   "cell_type": "code",
   "execution_count": null,
   "id": "335d95e0-91c3-42fa-933f-ced7f06934db",
   "metadata": {
    "tags": []
   },
   "outputs": [],
   "source": [
    "# make pyramid images\n",
    "data = da.from_zarr(root['0'])\n",
    "pyramid = mFISHwarp.zarr.pyramid_generator_from_dask(data, downscale_factor=downscale_factor, pyramid_level=5, chunk=mFISHwarp.utils.chunks_from_dask(data))"
   ]
  },
  {
   "cell_type": "code",
   "execution_count": null,
   "id": "9947a8f9-ebb3-4ecf-bd98-5dbec5bc998b",
   "metadata": {},
   "outputs": [],
   "source": [
    "for resolution in range(pyramid_level):\n",
    "    if resolution == 0:\n",
    "        pass\n",
    "    else:\n",
    "        arr = pyramid[resolution]\n",
    "        p = root.create_dataset(str(resolution),shape=arr.shape,chunks=mFISHwarp.utils.chunks_from_dask(data),dtype=arr.dtype)\n",
    "        arr.to_zarr(p,dimension_separator='/')"
   ]
  },
  {
   "cell_type": "code",
   "execution_count": null,
   "id": "3c10b386-411c-4127-850a-d2c8cb31fa78",
   "metadata": {},
   "outputs": [],
   "source": [
    "viewer = napari.Viewer()\n",
    "viewer.open(path, plugin=\"napari-ome-zarr\")\n",
    "\n",
    "# napari.run()"
   ]
  },
  {
   "cell_type": "code",
   "execution_count": null,
   "id": "8147e847-f7a8-47b9-a382-3088fd377d82",
   "metadata": {},
   "outputs": [],
   "source": []
  }
 ],
 "metadata": {
  "kernelspec": {
   "display_name": "deform",
   "language": "python",
   "name": "deform"
  },
  "language_info": {
   "codemirror_mode": {
    "name": "ipython",
    "version": 3
   },
   "file_extension": ".py",
   "mimetype": "text/x-python",
   "name": "python",
   "nbconvert_exporter": "python",
   "pygments_lexer": "ipython3",
   "version": "3.8.12"
  }
 },
 "nbformat": 4,
 "nbformat_minor": 5
}
