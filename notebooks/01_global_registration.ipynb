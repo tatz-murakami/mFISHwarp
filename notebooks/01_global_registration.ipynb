{
 "cells": [
  {
   "cell_type": "code",
   "execution_count": null,
   "id": "b8626e12-8982-4139-8da6-c61cc0c6f808",
   "metadata": {
    "tags": []
   },
   "outputs": [],
   "source": [
    "import os\n",
    "os.environ[\"CUDA_DEVICE_ORDER\"]=\"PCI_BUS_ID\"\n",
    "os.environ[\"CUDA_VISIBLE_DEVICES\"]=\"0\"\n",
    "\n",
    "import numpy as np\n",
    "import napari\n",
    "\n",
    "import pydeform.sitk_api as pydeform\n",
    "import SimpleITK as sitk\n",
    "\n",
    "import zarr\n",
    "\n",
    "import mFISHwarp.register\n",
    "import mFISHwarp.transform\n",
    "\n",
    "from skimage import io"
   ]
  },
  {
   "cell_type": "code",
   "execution_count": null,
   "id": "6853c415-fc84-40dc-8670-02bb768649a8",
   "metadata": {
    "tags": []
   },
   "outputs": [],
   "source": [
    "# set path\n",
    "io_path = '/mnt/ampa02_data01/tmurakami/MK_administration/240620_03_MX002-1/registration'\n",
    "fix_n5_path = '/mnt/ampa02_data01/tmurakami/MK_administration/240620_03_MX002-1/fused/fused.n5' # zarr with pyramid resolution\n",
    "mov_n5_path = '/mnt/ampa02_data01/tmurakami/MK_administration/240710_03_MX002-2/fused/fused.n5'\n",
    "\n",
    "# create IO directory\n",
    "if not os.path.isdir(io_path):\n",
    "    os.makedirs(io_path)\n",
    "\n",
    "# create Zarr file object\n",
    "fix_zarr = zarr.open(store=zarr.N5Store(fix_n5_path), mode='r')\n",
    "mov_zarr = zarr.open(store=zarr.N5Store(mov_n5_path), mode='r')\n",
    "\n",
    "# load low resolution images as numpy\n",
    "fix_l = fix_zarr['setup3']['timepoint0']['s3'][:] # eight times downsampling\n",
    "mov_l = mov_zarr['setup3']['timepoint0']['s3'][:]"
   ]
  },
  {
   "cell_type": "markdown",
   "id": "624be6fc-5bcc-4507-839c-cf247eec2f7b",
   "metadata": {},
   "source": [
    "## Affine registration"
   ]
  },
  {
   "cell_type": "code",
   "execution_count": null,
   "id": "f6e8d5d6-39bb-4420-98a6-71743caf5d96",
   "metadata": {
    "tags": []
   },
   "outputs": [],
   "source": [
    "%%time\n",
    "# affine registration\n",
    "affine_transform = mFISHwarp.register.affine_registration(\n",
    "    fix_l, mov_l,\n",
    "    initial_rotation=None,\n",
    "    initial_scaling=None,\n",
    "    shrinking_factors=(32, 16, 8, 4), # shrinking factor determine the resolution of the registration.\n",
    "    smoothing=(4, 4, 2, 1),\n",
    "    model='affine'\n",
    ")\n",
    "\n",
    "# apply transformation\n",
    "mov_affine = mFISHwarp.register.affine_warping(fix_l, mov_l, affine_transform)"
   ]
  },
  {
   "cell_type": "code",
   "execution_count": null,
   "id": "f0b43723-9769-4507-bf44-45fb10a41930",
   "metadata": {
    "tags": []
   },
   "outputs": [],
   "source": [
    "viewer = napari.Viewer()\n",
    "viewer.add_image(fix_l, contrast_limits=[0,5000], rgb=False, name='fix', colormap='green', blending='additive')\n",
    "viewer.add_image(mov_l, contrast_limits=[0,5000], rgb=False, name='mov', colormap='yellow', blending='additive')\n",
    "viewer.add_image(mov_affine, contrast_limits=[0,5000], rgb=False, name='mov_affine', colormap='magenta', blending='additive')"
   ]
  },
  {
   "cell_type": "code",
   "execution_count": null,
   "id": "f224c155-487a-44a4-8620-05b74ed0207c",
   "metadata": {
    "tags": []
   },
   "outputs": [],
   "source": [
    "io.imsave(os.path.join(io_path,'fix_l.tif'),fix_l, check_contrast=False)\n",
    "io.imsave(os.path.join(io_path,'mov_l.tif'),mov_l, check_contrast=False)\n",
    "io.imsave(os.path.join(io_path,'mov_affine.tif'), mov_affine.astype(np.uint16), check_contrast=False)"
   ]
  },
  {
   "cell_type": "markdown",
   "id": "87415b23-2741-4776-94ed-ebbad0539e50",
   "metadata": {},
   "source": [
    "## Non-linear registration"
   ]
  },
  {
   "cell_type": "code",
   "execution_count": null,
   "id": "d2931f21-338c-4f3a-a47b-441a801ef69f",
   "metadata": {},
   "outputs": [],
   "source": [
    "# set path for log file\n",
    "log_file = os.path.join(io_path,'deform.log')\n",
    "\n",
    "# set parameters for non linear registration\n",
    "settings = {\n",
    "    'pyramid_levels':1, \n",
    "    'pyramid_stop_level': 0, # if the computation takes too long time, reduce the resolution by increasing the number.\n",
    "    'step_size': [1.0, 1.0, 1.0], # [1.0,1.0,1.0] seems enough. more than that will degrade the quality\n",
    "    'block_size': [32,32,32],\n",
    "    'block_energy_epsilon':1e-7,\n",
    "    'max_iteration_count':-1,\n",
    "    'constraints_weight':1000.0,\n",
    "    'regularization_weight': 0.25, # default 0.25\n",
    "    'regularization_scale': 1.0, # default 1.0\n",
    "    'regularization_exponent': 2.0, # default 2.0\n",
    "    'image_slots': \n",
    "    [\n",
    "        {\n",
    "            'resampler': 'gaussian',\n",
    "            'normalize': True,\n",
    "            'cost_function':\n",
    "            [\n",
    "                {\n",
    "                    'function':'ncc',\n",
    "                    'weight':1.0,\n",
    "                    'radius':3 # 3 was better than 7. do not know why.\n",
    "                }\n",
    "            ]\n",
    "        }\n",
    "    ]\n",
    "}"
   ]
  },
  {
   "cell_type": "code",
   "execution_count": null,
   "id": "b445e119-6dfd-4945-aaa7-47cada68e808",
   "metadata": {
    "tags": []
   },
   "outputs": [],
   "source": [
    "%%time\n",
    "# non-linear registration\n",
    "displacement = mFISHwarp.register.deform_registration(\n",
    "    fix_l, mov_l, \n",
    "    settings, \n",
    "    affine_transform=affine_transform, \n",
    "    log_path=log_file, \n",
    "    num_threads=-1, \n",
    "    use_gpu=True\n",
    ")\n",
    "\n",
    "# apply transformation\n",
    "mov_deformed = mFISHwarp.register.deform_warping(mov_l, displacement)"
   ]
  },
  {
   "cell_type": "code",
   "execution_count": null,
   "id": "92c80179-b17b-4db2-a1c2-406803d4ea9e",
   "metadata": {},
   "outputs": [],
   "source": [
    "viewer = napari.Viewer()\n",
    "viewer.add_image(fix_l, contrast_limits=[0,5000], rgb=False, name='fix', colormap='green', blending='additive')\n",
    "viewer.add_image(mov_affine, contrast_limits=[0,5000], rgb=False, name='mov_affine', colormap='blue', blending='additive')\n",
    "viewer.add_image(mov_deformed, contrast_limits=[0,5000], rgb=False, name='mov_deform', colormap='magenta', blending='additive')"
   ]
  },
  {
   "cell_type": "code",
   "execution_count": null,
   "id": "64bb87c4-8ce2-46d8-a189-df150a7a9a67",
   "metadata": {},
   "outputs": [],
   "source": [
    "# save displacement array\n",
    "disp_arr = mFISHwarp.transform.displacement_itk2numpy(displacement)\n",
    "np.save(os.path.join(io_path, 'global_displacement.npy'), disp_arr)\n",
    "io.imsave(os.path.join(io_path,'mov_deformed.tif'), mov_deformed.astype(np.uint16), check_contrast=False)"
   ]
  },
  {
   "cell_type": "code",
   "execution_count": null,
   "id": "bcadefe2-f856-43f3-8183-0a154cfa7510",
   "metadata": {},
   "outputs": [],
   "source": [
    "#"
   ]
  },
  {
   "cell_type": "code",
   "execution_count": null,
   "id": "bdccdf20-5abd-46a0-a379-44dc9943c5d9",
   "metadata": {},
   "outputs": [],
   "source": []
  }
 ],
 "metadata": {
  "kernelspec": {
   "display_name": "deform02",
   "language": "python",
   "name": "deform02"
  },
  "language_info": {
   "codemirror_mode": {
    "name": "ipython",
    "version": 3
   },
   "file_extension": ".py",
   "mimetype": "text/x-python",
   "name": "python",
   "nbconvert_exporter": "python",
   "pygments_lexer": "ipython3",
   "version": "3.8.12"
  }
 },
 "nbformat": 4,
 "nbformat_minor": 5
}
