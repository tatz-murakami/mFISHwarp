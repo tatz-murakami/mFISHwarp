{
 "cells": [
  {
   "cell_type": "code",
   "execution_count": 1,
   "id": "602387e8-2aa6-4277-93b2-7fc781e1d363",
   "metadata": {},
   "outputs": [],
   "source": [
    "import os\n",
    "os.environ[\"CUDA_DEVICE_ORDER\"]=\"PCI_BUS_ID\"\n",
    "os.environ[\"CUDA_VISIBLE_DEVICES\"]=\"0\"\n",
    "\n",
    "import numpy as np\n",
    "import napari\n",
    "import zarr\n",
    "import dask.array as da"
   ]
  },
  {
   "cell_type": "code",
   "execution_count": 2,
   "id": "a25751fa-d257-47a7-b64f-c24e466102ea",
   "metadata": {},
   "outputs": [],
   "source": [
    "# set path\n",
    "io_path = '/mnt/ampa02_data01/tmurakami/MK_administration/240620_03_MX002-1/registration_R03'\n",
    "fix_n5_path = '/mnt/ampa02_data01/tmurakami/MK_administration/240620_03_MX002-1/fused/fused.n5' # zarr with pyramid resolution\n",
    "mov_n5_path = '/mnt/ampa02_data01/tmurakami/MK_administration/240726_03_MX002-3/fused/fused.n5'\n",
    "\n",
    "# create Zarr file object\n",
    "fix_zarr = zarr.open(store=zarr.N5Store(fix_n5_path), mode='r')\n",
    "# mov_zarr = zarr.open(store=zarr.N5Store(mov_n5_path), mode='r')\n",
    "\n",
    "# load higher resolution images as dask\n",
    "fix_l = da.from_zarr(fix_zarr['setup3']['timepoint0']['s1'])\n",
    "registered_mov_zarr = da.from_zarr(zarr.open(os.path.join(io_path, 'transformed_midres.zarr'),mode='r'))"
   ]
  },
  {
   "cell_type": "code",
   "execution_count": 3,
   "id": "b9b37140-c4b8-468d-9439-5782d7886d2b",
   "metadata": {},
   "outputs": [
    {
     "data": {
      "text/plain": [
       "<Image layer 'fix_l' at 0x7f475ff85dc0>"
      ]
     },
     "execution_count": 3,
     "metadata": {},
     "output_type": "execute_result"
    }
   ],
   "source": [
    "viewer = napari.Viewer()\n",
    "viewer.add_image(registered_mov_zarr,cache=True)\n",
    "viewer.add_image(fix_l,cache=True)"
   ]
  },
  {
   "cell_type": "code",
   "execution_count": 4,
   "id": "4645b8b9-7443-4856-b482-d906787af1f1",
   "metadata": {},
   "outputs": [],
   "source": [
    "#"
   ]
  },
  {
   "cell_type": "code",
   "execution_count": null,
   "id": "f11c232c-1d24-4d6e-83fe-d8d06dca029d",
   "metadata": {},
   "outputs": [],
   "source": []
  }
 ],
 "metadata": {
  "kernelspec": {
   "display_name": "cellpose2",
   "language": "python",
   "name": "cellpose2"
  },
  "language_info": {
   "codemirror_mode": {
    "name": "ipython",
    "version": 3
   },
   "file_extension": ".py",
   "mimetype": "text/x-python",
   "name": "python",
   "nbconvert_exporter": "python",
   "pygments_lexer": "ipython3",
   "version": "3.8.19"
  }
 },
 "nbformat": 4,
 "nbformat_minor": 5
}
