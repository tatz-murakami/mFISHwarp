{
 "cells": [
  {
   "cell_type": "code",
   "execution_count": 1,
   "id": "e3678af7-e66b-48cc-897d-ee37ea9cd928",
   "metadata": {},
   "outputs": [],
   "source": [
    "import os\n",
    "os.environ[\"CUDA_DEVICE_ORDER\"]=\"PCI_BUS_ID\"\n",
    "os.environ[\"CUDA_VISIBLE_DEVICES\"]=\"0\"\n",
    "\n",
    "import numpy as np\n",
    "import napari\n",
    "\n",
    "import pydeform.sitk_api as pydeform\n",
    "import SimpleITK as sitk\n",
    "\n",
    "import zarr\n",
    "\n",
    "import mFISHwarp.register\n",
    "import mFISHwarp.transform\n",
    "\n",
    "from skimage import io"
   ]
  },
  {
   "cell_type": "code",
   "execution_count": 2,
   "id": "8a19586d-afbb-4be2-97f2-657fa7c3b15f",
   "metadata": {},
   "outputs": [],
   "source": [
    "# set path\n",
    "io_path = '/mnt/ampa02_data01/tmurakami/MK_administration/240620_03_MX002-1/registration'\n",
    "fix_n5_path = '/mnt/ampa02_data01/tmurakami/MK_administration/240620_03_MX002-1/fused/fused.n5' # zarr with pyramid resolution\n",
    "mov_n5_path = '/mnt/ampa02_data01/tmurakami/MK_administration/240710_03_MX002-2/fused/fused.n5'\n",
    "\n",
    "# create IO directory\n",
    "if not os.path.isdir(io_path):\n",
    "    os.makedirs(io_path)\n",
    "\n",
    "# create Zarr file object\n",
    "fix_zarr = zarr.open(store=zarr.N5Store(fix_n5_path), mode='r')\n",
    "mov_zarr = zarr.open(store=zarr.N5Store(mov_n5_path), mode='r')\n",
    "\n",
    "# load low resolution images as numpy\n",
    "fix_s = fix_zarr['setup3']['timepoint0']['s3'][:] # eight times downsampling\n",
    "mov_s = mov_zarr['setup3']['timepoint0']['s3'][:]\n",
    "\n",
    "# load higher resolution images as dask\n",
    "fix_l = da.from_zarr(fix_zarr['setup3']['timepoint0']['s2'])\n",
    "mov_l = da.from_zarr(mov_zarr['setup3']['timepoint0']['s2'])"
   ]
  },
  {
   "cell_type": "markdown",
   "id": "4c2fe5eb-4eb5-4df1-96e7-1b6701768ed6",
   "metadata": {},
   "source": [
    "## Global affine registratoin"
   ]
  },
  {
   "cell_type": "code",
   "execution_count": 3,
   "id": "10e0364d-7329-4c78-88bc-eac64c1ff6c7",
   "metadata": {},
   "outputs": [
    {
     "name": "stdout",
     "output_type": "stream",
     "text": [
      "CPU times: user 1h 2min 6s, sys: 1min 10s, total: 1h 3min 16s\n",
      "Wall time: 2min 16s\n"
     ]
    }
   ],
   "source": [
    "%%time\n",
    "# affine registration\n",
    "affine_transform = mFISHwarp.register.affine_registration(\n",
    "    fix_s, mov_s,\n",
    "    initial_rotation=None,\n",
    "    initial_scaling=None,\n",
    "    shrinking_factors=(32, 16, 8, 4), # shrinking factor determine the resolution of the registration.\n",
    "    smoothing=(4, 4, 2, 1),\n",
    "    model='affine'\n",
    ")\n",
    "\n",
    "# apply transformation\n",
    "mov_affine = mFISHwarp.register.affine_warping(fix_l, mov_l, affine_transform)"
   ]
  },
  {
   "cell_type": "code",
   "execution_count": 4,
   "id": "11313113-76bb-4eaf-a7e5-e8db9b32a929",
   "metadata": {},
   "outputs": [
    {
     "data": {
      "text/plain": [
       "<Image layer 'mov_affine' at 0x7fa7b3f5efa0>"
      ]
     },
     "execution_count": 4,
     "metadata": {},
     "output_type": "execute_result"
    }
   ],
   "source": [
    "viewer = napari.Viewer()\n",
    "viewer.add_image(fix_l, contrast_limits=[0,5000], rgb=False, name='fix', colormap='green', blending='additive')\n",
    "viewer.add_image(mov_l, contrast_limits=[0,5000], rgb=False, name='mov', colormap='yellow', blending='additive')\n",
    "viewer.add_image(mov_affine, contrast_limits=[0,5000], rgb=False, name='mov_affine', colormap='magenta', blending='additive')"
   ]
  },
  {
   "cell_type": "code",
   "execution_count": null,
   "id": "525820ec-63ec-496a-aa8b-10bd58fe1c29",
   "metadata": {},
   "outputs": [],
   "source": [
    "io.imsave(os.path.join(io_path,'fix_l.tif'),fix_l, check_contrast=False)\n",
    "io.imsave(os.path.join(io_path,'mov_l.tif'),mov_l, check_contrast=False)\n",
    "io.imsave(os.path.join(io_path,'mov_affine.tif'), mov_affine.astype(np.uint16), check_contrast=False)"
   ]
  },
  {
   "cell_type": "code",
   "execution_count": 62,
   "id": "628eb612-931c-4380-9f1f-44b60f7830b5",
   "metadata": {},
   "outputs": [],
   "source": [
    "size = fix_l.shape[::-1]\n",
    "spacing = [1.0, 1.0, 1.0]\n",
    "origin = [0.0, 0.0, 0.0]\n",
    "direction = [1, 0, 0, 0, 1, 0, 0, 0, 1]\n",
    "\n",
    "# Convert the affine transform to a displacement field\n",
    "displacement_field = sitk.TransformToDisplacementField(affine_transform, sitk.sitkVectorFloat64, size, origin, spacing, direction)\n"
   ]
  },
  {
   "cell_type": "code",
   "execution_count": 63,
   "id": "d6654c13-39ee-4e68-8dd9-25cfe1fc024f",
   "metadata": {},
   "outputs": [],
   "source": [
    "# convert itk to numpy array.\n",
    "relative_displacement = mFISHwarp.transform.displacement_itk2numpy(displacement_field)\n",
    "# convert the relative displacement array to scaled positional displacement array\n",
    "positional_displacement = mFISHwarp.transform.relative2positional(relative_displacement)"
   ]
  },
  {
   "cell_type": "code",
   "execution_count": 68,
   "id": "282e2412-1b23-4a4d-8c8e-cad6030a8543",
   "metadata": {},
   "outputs": [
    {
     "data": {
      "text/plain": [
       "[<Image layer 'Image' at 0x7fa7bdca9c70>,\n",
       " <Image layer 'Image [1]' at 0x7fa9c676daf0>,\n",
       " <Image layer 'Image [2]' at 0x7fa9c64b6b50>]"
      ]
     },
     "execution_count": 68,
     "metadata": {},
     "output_type": "execute_result"
    }
   ],
   "source": [
    "viewer = napari.Viewer()\n",
    "viewer.add_image(np.moveaxis(disp,-1,0), channel_axis=0)"
   ]
  },
  {
   "cell_type": "code",
   "execution_count": 67,
   "id": "e71ae9f2-d0ef-4625-bdea-9fc43bdb3be9",
   "metadata": {},
   "outputs": [],
   "source": [
    "#"
   ]
  },
  {
   "cell_type": "code",
   "execution_count": 5,
   "id": "216f80d6-b320-4421-9009-335be658f755",
   "metadata": {},
   "outputs": [],
   "source": [
    "def affine_to_displacement_field(affine_matrix, shape):\n",
    "    # Generate a grid of coordinates\n",
    "    coords = np.indices(shape)\n",
    "    coords = coords.reshape(3, -1)\n",
    "    \n",
    "    # Add a row of ones for homogeneous coordinates\n",
    "    coords_homogeneous = np.vstack([coords, np.ones((1, coords.shape[1]))])\n",
    "    \n",
    "    # Apply the affine transformation\n",
    "    transformed_coords = affine_matrix @ coords_homogeneous\n",
    "    transformed_coords = transformed_coords[:3]  # Remove the homogeneous row\n",
    "    \n",
    "    # Calculate the displacement field\n",
    "    displacement_field = transformed_coords - coords\n",
    "    \n",
    "    # Reshape the displacement field to the original shape\n",
    "    displacement_field = displacement_field.reshape(3, *shape)\n",
    "    \n",
    "    return displacement_field"
   ]
  },
  {
   "cell_type": "code",
   "execution_count": 24,
   "id": "7cbfd1ef-c796-42c5-91b1-41363bdb1f0b",
   "metadata": {},
   "outputs": [],
   "source": [
    "# def sitk_to_numpy_affine(sitk_transform):\n",
    "#     # Get the 3x3 matrix and the translation vector from the SimpleITK affine transform\n",
    "#     matrix = np.array(sitk_transform.GetMatrix()).reshape((3, 3))\n",
    "#     translation = np.array(sitk_transform.GetTranslation())\n",
    "\n",
    "#     # Construct the 4x4 affine transformation matrix\n",
    "#     affine_matrix = np.eye(4)\n",
    "#     affine_matrix[:3, :3] = matrix\n",
    "#     affine_matrix[:3, 3] = translation\n",
    "\n",
    "#     return affine_matrix\n",
    "\n",
    "def sitk_to_numpy_affine(sitk_transform):\n",
    "    # Get the 3x3 matrix and the translation vector from the SimpleITK affine transform\n",
    "    matrix = np.array(sitk_transform.GetMatrix()).reshape((3, 3))\n",
    "    translation = np.array(sitk_transform.GetTranslation())\n",
    "\n",
    "    # Permute the matrix and translation to convert from XYZ to ZYX\n",
    "    permuted_matrix = matrix[:, [2, 1, 0]][[2, 1, 0], :]\n",
    "    permuted_translation = translation[[2, 1, 0]]\n",
    "\n",
    "    # Construct the 4x4 affine transformation matrix\n",
    "    affine_matrix = np.eye(4)\n",
    "    affine_matrix[:3, :3] = permuted_matrix\n",
    "    affine_matrix[:3, 3] = permuted_translation\n",
    "\n",
    "    return affine_matrix"
   ]
  },
  {
   "cell_type": "code",
   "execution_count": 27,
   "id": "f5d42e89-345c-422f-b967-2bbf95146c37",
   "metadata": {},
   "outputs": [],
   "source": [
    "disp_global = affine_to_displacement_field(sitk_to_numpy_affine(affine_transform), fix_l.shape)"
   ]
  },
  {
   "cell_type": "code",
   "execution_count": 30,
   "id": "f528f2b0-1094-4e04-9a98-cbd42df6adf8",
   "metadata": {},
   "outputs": [],
   "source": [
    "displacement_field = disp_global"
   ]
  },
  {
   "cell_type": "code",
   "execution_count": 28,
   "id": "855eb7b4-6327-4108-bd0b-6a7a9142202a",
   "metadata": {},
   "outputs": [
    {
     "data": {
      "text/plain": [
       "[<Image layer 'Image' at 0x7fa9dfd81f70>,\n",
       " <Image layer 'Image [1]' at 0x7fa9d77e4490>,\n",
       " <Image layer 'Image [2]' at 0x7fa9d6d23f40>]"
      ]
     },
     "execution_count": 28,
     "metadata": {},
     "output_type": "execute_result"
    }
   ],
   "source": [
    "# disp_global.shape\n",
    "viewer = napari.Viewer()\n",
    "viewer.add_image(disp_global, channel_axis=0)"
   ]
  },
  {
   "cell_type": "code",
   "execution_count": 15,
   "id": "76e26500-6fcd-4baa-bf14-633ea78e94b1",
   "metadata": {},
   "outputs": [],
   "source": [
    "def numpy_to_sitk_displacement_field(displacement_field):\n",
    "    # Displacement field shape is expected to be (3, depth, height, width)\n",
    "    displacement_field_sitk = sitk.GetImageFromArray(displacement_field.transpose(1, 2, 3, 0), isVector=True)\n",
    "    return displacement_field_sitk\n"
   ]
  },
  {
   "cell_type": "code",
   "execution_count": 31,
   "id": "1badd902-339c-4180-8d0a-884874550a13",
   "metadata": {},
   "outputs": [],
   "source": [
    "sitk_displacement_field = numpy_to_sitk_displacement_field(displacement_field)\n",
    "displacement_transform = sitk.DisplacementFieldTransform(sitk_displacement_field)"
   ]
  },
  {
   "cell_type": "code",
   "execution_count": 18,
   "id": "0c94cc8e-f519-46e7-9249-b11edcd02507",
   "metadata": {},
   "outputs": [],
   "source": [
    "def apply_displacement_field(image, displacement_transform):\n",
    "    # Resample the image using the displacement field transform\n",
    "    resampler = sitk.ResampleImageFilter()\n",
    "    resampler.SetReferenceImage(image)\n",
    "    resampler.SetTransform(displacement_transform)\n",
    "    resampler.SetInterpolator(sitk.sitkLinear)\n",
    "    \n",
    "    # Optionally set output pixel type and default pixel value\n",
    "    resampler.SetOutputPixelType(image.GetPixelID())\n",
    "    resampler.SetDefaultPixelValue(0)\n",
    "    \n",
    "    transformed_image = resampler.Execute(image)\n",
    "    return transformed_image\n"
   ]
  },
  {
   "cell_type": "code",
   "execution_count": 33,
   "id": "0a8e46f6-1a23-43d1-abbe-7b0be93786d3",
   "metadata": {},
   "outputs": [],
   "source": [
    "mov_itk = sitk.Cast(sitk.GetImageFromArray(mov_l), sitk.sitkFloat32)\n",
    "transformed_image = apply_displacement_field(mov_itk, displacement_transform)\n",
    "manual_mov = sitk.GetArrayFromImage(transformed_image).astype(np.uint16)"
   ]
  },
  {
   "cell_type": "code",
   "execution_count": 34,
   "id": "bab995b9-1c14-45f1-8d41-b5c50b446d9f",
   "metadata": {},
   "outputs": [
    {
     "data": {
      "text/plain": [
       "<Image layer 'mov_affine' at 0x7fa9df917070>"
      ]
     },
     "execution_count": 34,
     "metadata": {},
     "output_type": "execute_result"
    }
   ],
   "source": [
    "viewer = napari.Viewer()\n",
    "viewer.add_image(fix_l, contrast_limits=[0,5000], rgb=False, name='fix', colormap='green', blending='additive')\n",
    "viewer.add_image(manual_mov, contrast_limits=[0,5000], rgb=False, name='mov', colormap='yellow', blending='additive')\n",
    "viewer.add_image(mov_affine, contrast_limits=[0,5000], rgb=False, name='mov_affine', colormap='magenta', blending='additive')"
   ]
  },
  {
   "cell_type": "code",
   "execution_count": null,
   "id": "d9c9a9ed-2f7c-4614-8bef-a365409e01ac",
   "metadata": {},
   "outputs": [],
   "source": []
  }
 ],
 "metadata": {
  "kernelspec": {
   "display_name": "deform02",
   "language": "python",
   "name": "deform02"
  },
  "language_info": {
   "codemirror_mode": {
    "name": "ipython",
    "version": 3
   },
   "file_extension": ".py",
   "mimetype": "text/x-python",
   "name": "python",
   "nbconvert_exporter": "python",
   "pygments_lexer": "ipython3",
   "version": "3.8.12"
  }
 },
 "nbformat": 4,
 "nbformat_minor": 5
}
