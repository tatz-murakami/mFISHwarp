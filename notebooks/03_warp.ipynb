{
 "cells": [
  {
   "cell_type": "code",
   "execution_count": 1,
   "id": "164cb5fb-af20-4e32-b761-e0cc6d5b1ef4",
   "metadata": {
    "tags": []
   },
   "outputs": [],
   "source": [
    "import os\n",
    "os.environ[\"CUDA_DEVICE_ORDER\"]=\"PCI_BUS_ID\"\n",
    "os.environ[\"CUDA_VISIBLE_DEVICES\"]=\"0,1,2,4\"\n",
    "\n",
    "import numpy as np\n",
    "import napari\n",
    "\n",
    "import dask_image\n",
    "import dask.array as da\n",
    "import dask\n",
    "import zarr\n",
    "\n",
    "# import dask_stitch.stitch\n",
    "\n",
    "import mFISHwarp.transform\n",
    "import mFISHwarp.utils\n",
    "import mFISHwarp.dask_stitck\n",
    "\n",
    "import ray"
   ]
  },
  {
   "cell_type": "code",
   "execution_count": 2,
   "id": "6faf3db6-4503-4329-908b-5cbb8760c3ff",
   "metadata": {},
   "outputs": [],
   "source": [
    "# set path\n",
    "io_path = '/mnt/ampa02_data01/tmurakami/240417_whole_4color_1st_M037-3pb/registration'\n",
    "fix_n5_path = '/mnt/ampa02_data01/tmurakami/240417_whole_4color_1st_M037-3pb/fused/fused.n5' # zarr with pyramid resolution\n",
    "mov_n5_path = '/mnt/ampa02_data01/tmurakami/240425_whole_4color_2nd_M037-3pb/fused/fused.n5'\n",
    "displacement_overlap_path = os.path.join(io_path,'displacements_overlap.zarr') \n",
    "mov_transformed_path = os.path.join(io_path,'transformed_midres.zarr') # this is used only to recall overlap\n",
    "\n",
    "# set saving path\n",
    "moved_path = os.path.join(io_path, 'R02ch488_to_R01ch488.zarr')\n",
    "\n",
    "# create Zarr file object\n",
    "fix_zarr = zarr.open(store=zarr.N5Store(fix_n5_path), mode='r')\n",
    "mov_zarr = zarr.open(store=zarr.N5Store(mov_n5_path), mode='r')\n",
    "displacement_overlap_zarr = zarr.open(displacement_overlap_path, mode='r')\n",
    "mov_transformed_zarr = zarr.open(mov_transformed_path, mode='r')\n",
    "\n",
    "# zarr to dask\n",
    "displacement_overlap = da.from_zarr(displacement_overlap_zarr, chunks=displacement_overlap_zarr.chunks[:-1]+(3,))\n",
    "mov_transformed = da.from_zarr(mov_transformed_zarr)\n",
    "\n",
    "# load images as zarr\n",
    "fix_l = fix_zarr['setup3']['timepoint0']['s1']\n",
    "fix = fix_zarr['setup3']['timepoint0']['s0']\n",
    "mov = mov_zarr['setup3']['timepoint0']['s0']\n",
    "fix_da = da.from_zarr(fix)"
   ]
  },
  {
   "cell_type": "code",
   "execution_count": 3,
   "id": "736abcac-6163-458a-94d8-fe2cc46615f8",
   "metadata": {
    "tags": []
   },
   "outputs": [],
   "source": [
    "# load the overlapped displacement image as zarr\n",
    "blocksize = mFISHwarp.utils.chunks_from_dask(mov_transformed)\n",
    "overlap = tuple((x-y)//2 for x,y in zip(mFISHwarp.utils.chunks_from_dask(displacement_overlap)[:-1] ,blocksize)) # I should use attributes from zarr.\n",
    "\n",
    "# trim the outside of the overlapping regions to remove the erroneous outer edge.\n",
    "trimming_factor = 0.75\n",
    "trimming_range = tuple(round(i*trimming_factor) for i in overlap)\n",
    "\n",
    "# only suboverlap area is used to fuse the displacement\n",
    "trimmed_displacement_overlap = da.overlap.trim_overlap(displacement_overlap, trimming_range+(0,), boundary=None)\n",
    "suboverlap = tuple((x-y)//2 for x,y in zip(mFISHwarp.utils.chunks_from_dask(trimmed_displacement_overlap)[:-1] ,blocksize))\n",
    "\n",
    "# stitch displacement. Note the shape of the displacement is interger fold of the chunk size.\n",
    "displacement = mFISHwarp.dask_stitck.stitch_blocks(\n",
    "    trimmed_displacement_overlap, \n",
    "    blocksize, \n",
    "    suboverlap, \n",
    "    mov_transformed.chunks+(3,)# need full chunk information\n",
    ")"
   ]
  },
  {
   "cell_type": "code",
   "execution_count": 4,
   "id": "33349c43-b75e-462a-b4ee-0af77c70ee80",
   "metadata": {},
   "outputs": [],
   "source": [
    "# set rescale factors\n",
    "rescale_constant = tuple((np.array(fix.shape) / np.array(displacement.shape[:-1])).round().astype(int)) # upsampling ratio in zyx\n",
    "out_chunk_size = (256,256,256) # too small makes the calculation very slow\n",
    "# prepare dask array for upsampling\n",
    "upsampled_displacement = mFISHwarp.transform.upscale_displacement_gpu(\n",
    "    displacement,\n",
    "    rescale_constant,\n",
    "    out_chunk_size=out_chunk_size\n",
    ")\n",
    "fix_da = da.rechunk(fix_da, out_chunk_size)"
   ]
  },
  {
   "cell_type": "code",
   "execution_count": 6,
   "id": "6dfad75c-4eca-4790-834d-25f0e163cdfb",
   "metadata": {},
   "outputs": [
    {
     "data": {
      "text/plain": [
       "<zarr.core.Array '/0' (2475, 8548, 6414) uint16>"
      ]
     },
     "execution_count": 6,
     "metadata": {},
     "output_type": "execute_result"
    }
   ],
   "source": [
    "# make zarr to save\n",
    "root = zarr.open_group(moved_path, mode='a')\n",
    "root.create_dataset(\n",
    "    '0', \n",
    "    shape=fix.shape, \n",
    "    chunks=out_chunk_size, \n",
    "    dtype=fix.dtype\n",
    ")"
   ]
  },
  {
   "cell_type": "code",
   "execution_count": 7,
   "id": "3505a15c-20a9-4bcd-a3e6-33215e4d0907",
   "metadata": {
    "tags": []
   },
   "outputs": [],
   "source": [
    "# get chunk info to save in zarr\n",
    "chunk_info = fix_da.chunks\n",
    "\n",
    "# get ray id\n",
    "upsampled_displacement_id = ray.put(upsampled_displacement)"
   ]
  },
  {
   "cell_type": "code",
   "execution_count": 8,
   "id": "d868081c-8ecd-4001-826c-2452f2095c6f",
   "metadata": {},
   "outputs": [],
   "source": [
    "@ray.remote(num_gpus=0.5)\n",
    "def warp_block(index, upsampled_displacement):\n",
    "    disp = upsampled_displacement.blocks[index]\n",
    "\n",
    "    slicer = tuple(slice(sum(i[:j]),sum(i[:j])+i[j]) for i, j in zip(chunk_info,index))\n",
    "    chunk_shape = tuple(i[j] for i, j in zip(chunk_info,index))\n",
    "    mFISHwarp.transform.pad_trim_array_to_size(disp, chunk_shape+(3,), mode='edge') # This is because at the edge chunks do not always have same shape as slice\n",
    "\n",
    "    root['0'][slicer] = mFISHwarp.transform.transform_block_gpu(disp, mov, size_limit=1024*1024*1024)"
   ]
  },
  {
   "cell_type": "code",
   "execution_count": 9,
   "id": "12052e6a-493d-429e-90e0-5c06f3c45cef",
   "metadata": {
    "tags": []
   },
   "outputs": [],
   "source": [
    "# loop over blocks. Upsampling should be fit to gpu\n",
    "for index in list(np.ndindex(*fix_da.numblocks)):\n",
    "    warp_block.remote(index, upsampled_displacement_id)"
   ]
  },
  {
   "cell_type": "code",
   "execution_count": 10,
   "id": "4f2051e6-d9a3-4959-922b-fe280ca631ba",
   "metadata": {},
   "outputs": [
    {
     "data": {
      "text/plain": [
       "(10, 34, 26)"
      ]
     },
     "execution_count": 10,
     "metadata": {},
     "output_type": "execute_result"
    }
   ],
   "source": [
    "fix_da.numblocks"
   ]
  },
  {
   "cell_type": "markdown",
   "id": "a0c765a9-6f0e-40cc-88d5-8a88b8fea95d",
   "metadata": {},
   "source": [
    "## Optional. Save pyramid resolution"
   ]
  },
  {
   "cell_type": "code",
   "execution_count": null,
   "id": "753b2c4f-2844-4280-83d8-ef17a16b066a",
   "metadata": {},
   "outputs": [],
   "source": [
    "# optional. Save pyramid resolution\n",
    "from skimage.transform import downscale_local_mean\n",
    "def rescale_chunk(chunks, rescale_constant):\n",
    "    rescaled_chunks = []\n",
    "    for i in range(3):\n",
    "        rescaled_chunks.append(tuple(np.ceil(np.array(chunks[i]) / rescale_constant[i]).astype(int)))\n",
    "    rescaled_chunks = tuple(rescaled_chunks)\n",
    "\n",
    "    return rescaled_chunks\n",
    "\n",
    "def save_pyramid(file_name_base, downscale_constants, iteration=5):\n",
    "    # save downsampled resolution\n",
    "    for i in range(iteration):\n",
    "        img = da.from_zarr(os.path.join(file_name_base,str(i)))\n",
    "        down_img = da.map_blocks(\n",
    "            downscale_local_mean,\n",
    "            img,\n",
    "            downscale_constants,\n",
    "            dtype=img.dtype,\n",
    "            chunks=rescale_chunk(img.chunks,downscale_constants)\n",
    "        )\n",
    "        da.to_zarr(down_img, os.path.join(file_name_base,str(i+1)))\n",
    "        print('done:' + str(i+1))"
   ]
  },
  {
   "cell_type": "code",
   "execution_count": null,
   "id": "284b990b-18e3-43c9-b8a7-db2d0949a9cf",
   "metadata": {},
   "outputs": [],
   "source": [
    "downscale_constants = (2,2,2)\n",
    "save_pyramid(moved_path, downscale_constants)"
   ]
  }
 ],
 "metadata": {
  "kernelspec": {
   "display_name": "deform",
   "language": "python",
   "name": "deform"
  },
  "language_info": {
   "codemirror_mode": {
    "name": "ipython",
    "version": 3
   },
   "file_extension": ".py",
   "mimetype": "text/x-python",
   "name": "python",
   "nbconvert_exporter": "python",
   "pygments_lexer": "ipython3",
   "version": "3.8.12"
  }
 },
 "nbformat": 4,
 "nbformat_minor": 5
}
