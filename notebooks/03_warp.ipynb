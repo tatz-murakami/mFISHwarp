{
 "cells": [
  {
   "cell_type": "code",
   "execution_count": null,
   "id": "164cb5fb-af20-4e32-b761-e0cc6d5b1ef4",
   "metadata": {
    "tags": []
   },
   "outputs": [],
   "source": [
    "import os\n",
    "os.environ[\"CUDA_DEVICE_ORDER\"]=\"PCI_BUS_ID\"\n",
    "os.environ[\"CUDA_VISIBLE_DEVICES\"]=\"0\"\n",
    "\n",
    "import numpy as np\n",
    "import napari\n",
    "\n",
    "import dask_image\n",
    "import dask.array as da\n",
    "import dask\n",
    "import zarr\n",
    "\n",
    "import dask_stitch.stitch\n",
    "\n",
    "import mFISHwarp.transform\n",
    "import mFISHwarp.utils\n",
    "\n",
    "import ray"
   ]
  },
  {
   "cell_type": "code",
   "execution_count": null,
   "id": "6faf3db6-4503-4329-908b-5cbb8760c3ff",
   "metadata": {},
   "outputs": [],
   "source": [
    "# set path\n",
    "io_path = 'path_to_directory'\n",
    "fix_zarr_path = '/mnt/ampa_data01/tmurakami/brain01/ch488.zarr' # zarr with pyramid resolution\n",
    "mov_zarr_path = '/mnt/ampa_data01/tmurakami/brain02/ch488.zarr'\n",
    "displacement_overlap_path = os.path.join(io_path,'displacements_overlap.zarr') \n",
    "\n",
    "# set saving path\n",
    "moved_path = os.path.join(io_path, 'R02ch488_to_R01ch488.zarr')\n",
    "\n",
    "# create Zarr file object\n",
    "fix_zarr = zarr.open(fix_zarr_path, mode='r')\n",
    "mov_zarr = zarr.open(mov_zarr_path, mode='r')\n",
    "displacement_overlap = zarr.open(displacement_overlap_path, mode='r')\n",
    "\n",
    "# zarr to dask\n",
    "displacement_overlap = da.from_zarr(displacement_overlap, chunks=displacement_overlap.chunks[:-1]+(3,))\n",
    "\n",
    "# load images as zarr\n",
    "fix_l = fix_zarr['1']\n",
    "fix = fix_zarr['0']\n",
    "mov = mov_zarr['0']\n",
    "fix_da = da.from_zarr(fix)\n",
    "\n",
    "# load the overlapped displacement image as zarr\n",
    "blocksize = fix_l.chunks\n",
    "overlap = tuple((x-y)//2 for x,y in zip(mFISHwarp.utils.chunks_from_dask(displacement_overlap)[:-1] ,fix_l.chunks))"
   ]
  },
  {
   "cell_type": "code",
   "execution_count": null,
   "id": "4fe6aac1-fc98-404c-b12e-d92178832c21",
   "metadata": {},
   "outputs": [],
   "source": [
    "# trim the outside of the overlapping regions to remove the erroneous outer edge.\n",
    "trimming_factor = 0.75\n",
    "trimming_range = tuple(round(i*trimming_factor) for i in overlap)\n",
    "trimmed_displacement_overlap = da.overlap.trim_overlap(displacement_overlap, trimming_range+(0,), boundary=None)\n",
    "suboverlap = tuple((x-y)//2 for x,y in zip(mFISHwarp.utils.chunks_from_dask(trimmed_displacement_overlap)[:-1] ,fix_l.chunks))\n",
    "\n",
    "# stitch displacement\n",
    "displacement = dask_stitch.stitch.stitch_blocks(trimmed_displacement_overlap, blocksize, suboverlap)"
   ]
  },
  {
   "cell_type": "code",
   "execution_count": null,
   "id": "33349c43-b75e-462a-b4ee-0af77c70ee80",
   "metadata": {},
   "outputs": [],
   "source": [
    "# set rescale factors\n",
    "rescale_constant = tuple((np.array(fix.shape) / np.array(displacement.shape[:-1])).round().astype(int)) # upsampling ratio in zyx\n",
    "\n",
    "# prepare dask array for upsampling\n",
    "out_chunk_size=fix.chunks\n",
    "upsampled_displacement = mFISHwarp.transform.upscale_displacement_gpu(\n",
    "    displacement,\n",
    "    rescale_constant,\n",
    "    out_chunk_size=out_chunk_size,\n",
    ")"
   ]
  },
  {
   "cell_type": "code",
   "execution_count": null,
   "id": "6dfad75c-4eca-4790-834d-25f0e163cdfb",
   "metadata": {},
   "outputs": [],
   "source": [
    "# make zarr to save\n",
    "root = zarr.open_group(moved_path, mode='a')\n",
    "root.create_dataset(\n",
    "    '0', \n",
    "    shape=fix.shape, \n",
    "    chunks=fix.chunks, \n",
    "    dtype=fix.dtype\n",
    ")"
   ]
  },
  {
   "cell_type": "code",
   "execution_count": null,
   "id": "3505a15c-20a9-4bcd-a3e6-33215e4d0907",
   "metadata": {
    "tags": []
   },
   "outputs": [],
   "source": [
    "# get chunk info to save in zarr\n",
    "chunk_info = fix_da.chunks\n",
    "\n",
    "# get ray id\n",
    "upsampled_displacement_id = ray.put(upsampled_displacement)"
   ]
  },
  {
   "cell_type": "code",
   "execution_count": null,
   "id": "d868081c-8ecd-4001-826c-2452f2095c6f",
   "metadata": {},
   "outputs": [],
   "source": [
    "@ray.remote(num_gpus=0.5)\n",
    "def warp_block(index, upsampled_displacement):\n",
    "    disp = upsampled_displacement.blocks[index]\n",
    "\n",
    "    slicer = tuple(slice(sum(i[:j]),sum(i[:j])+i[j]) for i, j in zip(chunk_info,index))\n",
    "\n",
    "    root['0'][slicer] = mFISHwarp.transform.transform_block_gpu(disp, mov, size_limit=1024*1024*1024)"
   ]
  },
  {
   "cell_type": "code",
   "execution_count": null,
   "id": "12052e6a-493d-429e-90e0-5c06f3c45cef",
   "metadata": {
    "tags": []
   },
   "outputs": [],
   "source": [
    "# loop over blocks. Upsampling should be fit to gpu\n",
    "for index in list(np.ndindex(*fix_da.numblocks)):\n",
    "    warp_block.remote(index, upsampled_displacement_id)"
   ]
  },
  {
   "cell_type": "markdown",
   "id": "a0c765a9-6f0e-40cc-88d5-8a88b8fea95d",
   "metadata": {},
   "source": [
    "## Optional. Save pyramid resolution"
   ]
  },
  {
   "cell_type": "code",
   "execution_count": null,
   "id": "753b2c4f-2844-4280-83d8-ef17a16b066a",
   "metadata": {},
   "outputs": [],
   "source": [
    "# optional. Save pyramid resolution\n",
    "from skimage.transform import downscale_local_mean\n",
    "def rescale_chunk(chunks, rescale_constant):\n",
    "    rescaled_chunks = []\n",
    "    for i in range(3):\n",
    "        rescaled_chunks.append(tuple(np.ceil(np.array(chunks[i]) / rescale_constant[i]).astype(int)))\n",
    "    rescaled_chunks = tuple(rescaled_chunks)\n",
    "\n",
    "    return rescaled_chunks\n",
    "\n",
    "def save_pyramid(file_name_base, downscale_constants, iteration=5):\n",
    "    # save downsampled resolution\n",
    "    for i in range(iteration):\n",
    "        img = da.from_zarr(os.path.join(file_name_base,str(i)))\n",
    "        down_img = da.map_blocks(\n",
    "            downscale_local_mean,\n",
    "            img,\n",
    "            downscale_constants,\n",
    "            dtype=img.dtype,\n",
    "            chunks=rescale_chunk(img.chunks,downscale_constants)\n",
    "        )\n",
    "        da.to_zarr(down_img, os.path.join(file_name_base,str(i+1)))\n",
    "        print('done:' + str(i+1))"
   ]
  },
  {
   "cell_type": "code",
   "execution_count": null,
   "id": "284b990b-18e3-43c9-b8a7-db2d0949a9cf",
   "metadata": {},
   "outputs": [],
   "source": [
    "downscale_constants = (2,2,2)\n",
    "save_pyramid(moved_path, downscale_constants)"
   ]
  }
 ],
 "metadata": {
  "kernelspec": {
   "display_name": "Python 3 (ipykernel)",
   "language": "python",
   "name": "python3"
  },
  "language_info": {
   "codemirror_mode": {
    "name": "ipython",
    "version": 3
   },
   "file_extension": ".py",
   "mimetype": "text/x-python",
   "name": "python",
   "nbconvert_exporter": "python",
   "pygments_lexer": "ipython3",
   "version": "3.8.12"
  }
 },
 "nbformat": 4,
 "nbformat_minor": 5
}
