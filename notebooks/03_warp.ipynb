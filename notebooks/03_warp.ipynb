{
 "cells": [
  {
   "cell_type": "code",
   "execution_count": null,
   "id": "164cb5fb-af20-4e32-b761-e0cc6d5b1ef4",
   "metadata": {
    "tags": []
   },
   "outputs": [],
   "source": [
    "import os\n",
    "os.environ[\"CUDA_DEVICE_ORDER\"]=\"PCI_BUS_ID\"\n",
    "os.environ[\"CUDA_VISIBLE_DEVICES\"]=\"0,1\"\n",
    "\n",
    "import numpy as np\n",
    "import napari\n",
    "\n",
    "import dask_image\n",
    "import dask.array as da\n",
    "import dask\n",
    "import zarr\n",
    "\n",
    "import mFISHwarp.transform\n",
    "import mFISHwarp.utils\n",
    "import mFISHwarp.dask_stitch\n",
    "\n",
    "import ray\n",
    "\n",
    "from ome_zarr.io import parse_url\n",
    "from ome_zarr.writer import write_image"
   ]
  },
  {
   "cell_type": "code",
   "execution_count": null,
   "id": "6faf3db6-4503-4329-908b-5cbb8760c3ff",
   "metadata": {},
   "outputs": [],
   "source": [
    "# set path\n",
    "io_path = '/mnt/ampa02_data01/tmurakami/kidney/registration'\n",
    "fix_n5_path = '/mnt/ampa02_data01/tmurakami/kidney/240614_kidney_finescan/fused/fused.n5' # zarr with pyramid resolution\n",
    "mov_n5_path = '/mnt/ampa02_data01/tmurakami/kidney/240709_kidney-2nd-round-finescan/fused/fused.n5'\n",
    "\n",
    "displacement_overlap_path = os.path.join(io_path,'displacements_overlap.zarr') \n",
    "mov_transformed_path = os.path.join(io_path,'transformed_midres.zarr') # this is used only to recall overlap\n",
    "\n",
    "# set saving path\n",
    "moved_path = os.path.join(io_path, 'R02ch561_to_R01ch488.zarr')\n",
    "\n",
    "# create Zarr file object\n",
    "fix_zarr = zarr.open(store=zarr.N5Store(fix_n5_path), mode='r')\n",
    "mov_zarr = zarr.open(store=zarr.N5Store(mov_n5_path), mode='r')\n",
    "displacement_overlap_zarr = zarr.open(displacement_overlap_path, mode='r')\n",
    "mov_transformed_zarr = zarr.open(mov_transformed_path, mode='r')\n",
    "\n",
    "# zarr to dask\n",
    "displacement_overlap = da.from_zarr(displacement_overlap_zarr, chunks=displacement_overlap_zarr.chunks[:-1]+(3,))\n",
    "mov_transformed = da.from_zarr(mov_transformed_zarr)\n",
    "\n",
    "# load images as zarr\n",
    "fix_l = fix_zarr['setup3']['timepoint0']['s1']\n",
    "fix = fix_zarr['setup3']['timepoint0']['s0']\n",
    "mov = mov_zarr['setup2']['timepoint0']['s0']\n",
    "fix_da = da.from_zarr(fix)"
   ]
  },
  {
   "cell_type": "code",
   "execution_count": null,
   "id": "736abcac-6163-458a-94d8-fe2cc46615f8",
   "metadata": {
    "tags": []
   },
   "outputs": [],
   "source": [
    "# load the overlapped displacement image as zarr\n",
    "blocksize = mFISHwarp.utils.chunks_from_dask(mov_transformed)\n",
    "overlap = tuple((x-y)//2 for x,y in zip(mFISHwarp.utils.chunks_from_dask(displacement_overlap)[:-1] ,blocksize)) # I should use attributes from zarr.\n",
    "\n",
    "# trim the outside of the overlapping regions to remove the erroneous outer edge.\n",
    "trimming_factor = 0.75\n",
    "trimming_range = tuple(round(i*trimming_factor) for i in overlap)\n",
    "\n",
    "# only suboverlap area is used to fuse the displacement\n",
    "trimmed_displacement_overlap = da.overlap.trim_overlap(displacement_overlap, trimming_range+(0,), boundary='reflect')\n",
    "suboverlap = tuple((x-y)//2 for x,y in zip(mFISHwarp.utils.chunks_from_dask(trimmed_displacement_overlap)[:-1] ,blocksize))\n",
    "\n",
    "# stitch displacement. Note the shape of the displacement is interger fold of the chunk size.\n",
    "displacement = mFISHwarp.dask_stitch.stitch_blocks(\n",
    "    trimmed_displacement_overlap, \n",
    "    blocksize, \n",
    "    suboverlap, \n",
    "    mov_transformed.chunks+(3,)# need full chunk information\n",
    ")"
   ]
  },
  {
   "cell_type": "code",
   "execution_count": null,
   "id": "33349c43-b75e-462a-b4ee-0af77c70ee80",
   "metadata": {},
   "outputs": [],
   "source": [
    "# set rescale factors\n",
    "rescale_constant = tuple((np.array(fix.shape) / np.array(displacement.shape[:-1])).round().astype(int)) # upsampling ratio in zyx\n",
    "out_chunk_size = (256,256,256) # too small makes the calculation very slow\n",
    "# prepare dask array for upsampling\n",
    "upsampled_displacement = mFISHwarp.transform.upscale_displacement_gpu(\n",
    "    displacement,\n",
    "    rescale_constant,\n",
    "    out_chunk_size=out_chunk_size\n",
    ")\n",
    "fix_da = da.rechunk(fix_da, out_chunk_size)"
   ]
  },
  {
   "cell_type": "code",
   "execution_count": null,
   "id": "6dfad75c-4eca-4790-834d-25f0e163cdfb",
   "metadata": {},
   "outputs": [],
   "source": [
    "# make zarr to save\n",
    "root = zarr.open_group(moved_path, mode='a')\n",
    "# root.create_dataset(\n",
    "#     '0', \n",
    "#     shape=fix.shape, \n",
    "#     chunks=out_chunk_size, \n",
    "#     dtype=fix.dtype\n",
    "# )"
   ]
  },
  {
   "cell_type": "code",
   "execution_count": null,
   "id": "3505a15c-20a9-4bcd-a3e6-33215e4d0907",
   "metadata": {
    "tags": []
   },
   "outputs": [],
   "source": [
    "# get chunk info to save in zarr\n",
    "chunk_info = fix_da.chunks\n",
    "\n",
    "# get ray id\n",
    "upsampled_displacement_id = ray.put(upsampled_displacement)"
   ]
  },
  {
   "cell_type": "code",
   "execution_count": null,
   "id": "d868081c-8ecd-4001-826c-2452f2095c6f",
   "metadata": {},
   "outputs": [],
   "source": [
    "@ray.remote(num_gpus=0.2)\n",
    "def warp_block(index, upsampled_displacement):\n",
    "    disp = upsampled_displacement.blocks[index]\n",
    "\n",
    "    slicer = tuple(slice(sum(i[:j]),sum(i[:j])+i[j]) for i, j in zip(chunk_info,index))\n",
    "    chunk_shape = tuple(i[j] for i, j in zip(chunk_info,index))\n",
    "    \n",
    "    disp = mFISHwarp.transform.pad_trim_array_to_size(disp, chunk_shape+(3,), mode='edge') # This is because at the edge chunks do not always have same shape as slice\n",
    "    \n",
    "    root['0'][slicer] = mFISHwarp.transform.transform_block_gpu(disp, mov, size_limit=1024*1024*1024)"
   ]
  },
  {
   "cell_type": "code",
   "execution_count": null,
   "id": "12052e6a-493d-429e-90e0-5c06f3c45cef",
   "metadata": {
    "tags": []
   },
   "outputs": [],
   "source": [
    "# upsampled image should fit to gpu RAM.\n",
    "index_list = list(np.ndindex(*fix_da.numblocks))\n",
    "# index_list.reverse()\n",
    "for index in index_list:\n",
    "    sep = '.'\n",
    "    file_name = sep.join([str(i) for i in index])\n",
    "    existing_files = os.listdir(os.path.join(moved_path,'0'))\n",
    "    if not file_name in existing_files:\n",
    "        warp_block.remote(index, upsampled_displacement_id)"
   ]
  },
  {
   "cell_type": "markdown",
   "id": "fd52c608-697f-440e-9b26-8eb4ea28a96f",
   "metadata": {},
   "source": [
    "## Save images in OME-Zarr format"
   ]
  },
  {
   "cell_type": "code",
   "execution_count": null,
   "id": "1587a511-83af-4cb8-b30e-74a257a716b0",
   "metadata": {},
   "outputs": [],
   "source": [
    "### For transformed Zarr\n",
    "zarr_paths = [\n",
    "    '/mnt/ampa02_data01/tmurakami/240417_whole_4color_1st_M037-3pb/registration/R02ch785_to_R01ch488.zarr',\n",
    "    '/mnt/ampa02_data01/tmurakami/240417_whole_4color_1st_M037-3pb/registration/R02ch640_to_R01ch488.zarr',\n",
    "    '/mnt/ampa02_data01/tmurakami/240417_whole_4color_1st_M037-3pb/registration/R02ch561_to_R01ch488.zarr',\n",
    "    '/mnt/ampa02_data01/tmurakami/240417_whole_4color_1st_M037-3pb/registration/R02ch488_to_R01ch488.zarr'\n",
    "]\n",
    "\n",
    "imgs = []\n",
    "resolution = '0'\n",
    "voxel_ratio = (1.0, 2.0, 1.3, 1.3) # czyx\n",
    "\n",
    "for zarr_path in zarr_paths:\n",
    "    img_zarr = zarr.open(zarr_path, mode='r')\n",
    "    imgs.append(da.from_zarr(img_zarr[resolution]))\n",
    "imgs = da.stack(imgs)"
   ]
  },
  {
   "cell_type": "code",
   "execution_count": null,
   "id": "f3f7d99d-886c-4dae-a2a1-f1ed7c52b40d",
   "metadata": {},
   "outputs": [],
   "source": [
    "# documentation \n",
    "# https://ome-zarr.readthedocs.io/en/stable/python.html#reading-ome-ngff-images\n",
    "\n",
    "path = \"/mnt/ampa02_data01/tmurakami/240417_whole_4color_1st_M037-3pb/registration/round02_2.zarr\"\n",
    "os.mkdir(path)\n",
    "\n",
    "store = parse_url(path, mode=\"w\").store\n",
    "root = zarr.group(store=store)\n",
    "\n",
    "# write pyramid\n",
    "# Note that the scaling is limited in xy. No downsampling in z. See https://github.com/ome/ome-zarr-py/issues/262 .\n",
    "write_image(image=imgs, group=root, axes=\"czyx\", storage_options=dict(chunks=(1, 256, 256, 256)))"
   ]
  },
  {
   "cell_type": "code",
   "execution_count": null,
   "id": "1d65ae03-4dc8-417e-9e1a-c11aecd24618",
   "metadata": {},
   "outputs": [],
   "source": [
    "# re-write attribution to fix the voxel size. This is optional but can fix the in-isotropic voxel size.\n",
    "\n",
    "my_attr = root.attrs[\"multiscales\"].copy()\n",
    "\n",
    "for i, attr in enumerate(my_attr[0]['datasets']):\n",
    "    scale = attr['coordinateTransformations'][0]['scale']\n",
    "    \n",
    "    my_attr[0]['datasets'][i]['coordinateTransformations'][0]['scale'] = [x * y for x,y in zip(scale,voxel_ratio)]\n",
    "    \n",
    "del root.attrs[\"multiscales\"]\n",
    "\n",
    "# recreate the attributes\n",
    "root.attrs[\"multiscales\"] = my_attr"
   ]
  },
  {
   "cell_type": "code",
   "execution_count": null,
   "id": "3c10b386-411c-4127-850a-d2c8cb31fa78",
   "metadata": {},
   "outputs": [],
   "source": [
    "viewer = napari.Viewer()\n",
    "viewer.open(path, plugin=\"napari-ome-zarr\")\n",
    "\n",
    "# napari.run()"
   ]
  }
 ],
 "metadata": {
  "kernelspec": {
   "display_name": "deform",
   "language": "python",
   "name": "deform"
  },
  "language_info": {
   "codemirror_mode": {
    "name": "ipython",
    "version": 3
   },
   "file_extension": ".py",
   "mimetype": "text/x-python",
   "name": "python",
   "nbconvert_exporter": "python",
   "pygments_lexer": "ipython3",
   "version": "3.8.12"
  }
 },
 "nbformat": 4,
 "nbformat_minor": 5
}
