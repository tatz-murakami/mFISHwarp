{
 "cells": [
  {
   "cell_type": "code",
   "execution_count": null,
   "id": "b8626e12-8982-4139-8da6-c61cc0c6f808",
   "metadata": {},
   "outputs": [],
   "source": [
    "import os\n",
    "os.environ[\"CUDA_DEVICE_ORDER\"]=\"PCI_BUS_ID\"\n",
    "os.environ[\"CUDA_VISIBLE_DEVICES\"]=\"0,1\"\n",
    "\n",
    "import numpy as np\n",
    "import napari\n",
    "\n",
    "import dask_image\n",
    "import dask.array as da\n",
    "import dask\n",
    "import zarr\n",
    "\n",
    "import mFISHwarp.morphology\n",
    "import mFISHwarp.utils\n",
    "import mFISHwarp.transform\n",
    "import mFISHwarp.register\n",
    "\n",
    "import ray"
   ]
  },
  {
   "cell_type": "code",
   "execution_count": null,
   "id": "6853c415-fc84-40dc-8670-02bb768649a8",
   "metadata": {
    "tags": []
   },
   "outputs": [],
   "source": [
    "# set path\n",
    "io_path = '/mnt/ampa02_data01/tmurakami/kidney/registration'\n",
    "fix_n5_path = '/mnt/ampa02_data01/tmurakami/kidney/240614_kidney_finescan/fused/fused.n5' # zarr with pyramid resolution\n",
    "mov_n5_path = '/mnt/ampa02_data01/tmurakami/kidney/240709_kidney-2nd-round-finescan/fused/fused.n5'\n",
    "\n",
    "# create IO folder\n",
    "if not os.path.isdir(io_path):\n",
    "    os.makedirs(io_path)\n",
    "\n",
    "# create Zarr file object\n",
    "fix_zarr = zarr.open(store=zarr.N5Store(fix_n5_path), mode='r')\n",
    "mov_zarr = zarr.open(store=zarr.N5Store(mov_n5_path), mode='r')\n",
    "\n",
    "# load the displacement field\n",
    "relative_displacement = np.load(os.path.join(io_path, 'global_displacement.npy'))\n",
    "# convert the relative displacement array to scaled positional displacement array\n",
    "positional_displacement = mFISHwarp.transform.relative2positional(relative_displacement)\n",
    "\n",
    "# get high resolution images as zarr object\n",
    "# think twice if you are loading the highest resolution.\n",
    "fix_l = fix_zarr['setup3']['timepoint0']['s1'] # two fold downsampling\n",
    "mov_l = mov_zarr['setup2']['timepoint0']['s1']"
   ]
  },
  {
   "cell_type": "markdown",
   "id": "c3618a14-a58a-478a-b3d5-ff6eddc14104",
   "metadata": {},
   "source": [
    "## Make masks to avoid registration of the blank space"
   ]
  },
  {
   "cell_type": "code",
   "execution_count": null,
   "id": "bd6d8ba7-a5c2-40b8-84a2-55eba41edbe8",
   "metadata": {},
   "outputs": [],
   "source": [
    "fix_s = fix_zarr['setup3']['timepoint0']['s4'][:]\n",
    "fix_mask = mFISHwarp.morphology.mask_maker(fix_s,1000)\n",
    "\n",
    "# visualize the mask\n",
    "viewer = napari.Viewer()\n",
    "viewer.add_image(fix_s, contrast_limits=[0,10000], rgb=False, colormap='green', blending='additive')\n",
    "viewer.add_image(fix_mask, contrast_limits=[0,5], rgb=False, colormap='magenta', blending='additive')"
   ]
  },
  {
   "cell_type": "code",
   "execution_count": null,
   "id": "7210417f-987c-4fd6-8564-aaef365172ad",
   "metadata": {},
   "outputs": [],
   "source": [
    "from skimage import io\n",
    "io.imsave(os.path.join(io_path,'fix_mask.tif'),fix_mask)"
   ]
  },
  {
   "cell_type": "markdown",
   "id": "6fdf785f-32c1-4bc0-b083-0f369db6984d",
   "metadata": {},
   "source": [
    "## Upsampling of positional displacement"
   ]
  },
  {
   "cell_type": "code",
   "execution_count": null,
   "id": "ba7024a0-9de5-48ba-83e5-2b8116d039a2",
   "metadata": {
    "tags": []
   },
   "outputs": [],
   "source": [
    "# specify the chunk size and overlaps\n",
    "out_chunk_size=(128, 128, 128)\n",
    "out_overlap=(32, 32, 32)\n",
    "\n",
    "# set rescale factors\n",
    "rescale_constant = tuple((np.array(fix_l.shape) / np.array(relative_displacement.shape[:-1])).round().astype(int)) # upsampling ratio in zyx\n",
    "\n",
    "# upscale the displacement field and make overlaps\n",
    "fix_da = da.from_zarr(fix_l, chunks=out_chunk_size)\n",
    "fix_overlap = da.overlap.overlap(fix_da,depth=out_overlap,boundary=0)\n",
    "\n",
    "# get chunk size of fixed with overlaps\n",
    "overlap_chunk_size = mFISHwarp.utils.chunks_from_dask(fix_overlap)\n",
    "\n",
    "# upscale the displacement field and make overlaps\n",
    "displacement_overlap = mFISHwarp.transform.upscale_displacement_overlap(\n",
    "    positional_displacement,\n",
    "    rescale_constant,\n",
    "    out_chunk_size=out_chunk_size,\n",
    "    out_overlap=out_overlap\n",
    ")\n",
    "\n",
    "# Trim or pad the upscaled displacement array to fit the size of fix_overlap\n",
    "# displacement_overlap = mFISHwarp.transform.pad_trim_array_to_size(displacement_overlap, fix_overlap.shape + (fix_da.ndim,))\n",
    "# Clean the redundant chunks caused by padding\n",
    "# displacement_overlap = da.rechunk(displacement_overlap, overlap_chunk_size + (fix_da.ndim,))"
   ]
  },
  {
   "cell_type": "markdown",
   "id": "5cd73758-d34e-45ea-a03f-3738ab8784ac",
   "metadata": {},
   "source": [
    "## Preparation for registration"
   ]
  },
  {
   "cell_type": "code",
   "execution_count": null,
   "id": "f461efbe-fdef-4c0c-b062-4d1f211929fd",
   "metadata": {},
   "outputs": [],
   "source": [
    "# get shape of the target.\n",
    "target_shape = fix_l.shape\n",
    "\n",
    "# make flag array from masks\n",
    "flag_array = mFISHwarp.utils.flag_array_generator(out_chunk_size, target_shape, fix_mask)\n",
    "print(f'{flag_array.sum()} blocks of {flag_array.shape[0]}*{flag_array.shape[1]}*{flag_array.shape[2]}={flag_array.size} blocks will be calculated')"
   ]
  },
  {
   "cell_type": "code",
   "execution_count": null,
   "id": "d62ecb85-d9d0-43af-ba2f-8182a8fade15",
   "metadata": {},
   "outputs": [],
   "source": [
    "# Set zarr path for registered moving image.\n",
    "registered_mov_zarr = zarr.open(\n",
    "    os.path.join(io_path, 'transformed_midres.zarr'), \n",
    "    mode='w-', \n",
    "    shape=target_shape, \n",
    "    chunks=out_chunk_size, \n",
    "    dtype=np.uint16\n",
    ")\n",
    "# Or, registered_mov_zarr = None\n",
    "\n",
    "# Set zarr path for displacement map.\n",
    "displacement_shape = fix_overlap.shape + (fix_da.ndim,)\n",
    "displacement_zarr = zarr.open(\n",
    "    os.path.join(io_path, 'displacements_overlap.zarr'), \n",
    "    mode='w-', \n",
    "    shape=displacement_shape, \n",
    "    chunks=overlap_chunk_size+(fix_da.ndim,), \n",
    "    dtype=displacement_overlap.dtype\n",
    ")\n",
    "\n",
    "# add attribute so that I can know the overlap size later.\n",
    "displacement_zarr.attrs.update({\"overlap_size\": out_overlap+(0,)})"
   ]
  },
  {
   "cell_type": "code",
   "execution_count": null,
   "id": "2f229caf-b1bf-4cda-801b-d3a50de7e565",
   "metadata": {},
   "outputs": [],
   "source": [
    "# set parameters for local registration\n",
    "settings = {\n",
    "    'pyramid_levels':2, \n",
    "    'pyramid_stop_level': 1, \n",
    "    'step_size': [1.0, 1.0, 1.0], # [1.0,1.0,1.0] or [0.5,0.5,0.5] is recommended.\n",
    "    'block_size': [16, 16, 16],# [32,32,32] or [16,16,16] is recommended.\n",
    "    'block_energy_epsilon':1e-6,\n",
    "    'max_iteration_count':100, # -1 is the best but takes long time to converge. 100 is enough most cases.\n",
    "    'constraints_weight':1000.0,\n",
    "    'regularization_weight': 0.15, # reduce here for more flexibility at high resolution. default 0.25\n",
    "    'regularization_scale': 1.0, # default 1.0\n",
    "    'regularization_exponent': 2.0, # default 2.0\n",
    "    'image_slots':[ \n",
    "        {\n",
    "            'resampler': 'gaussian',\n",
    "            'normalize': True,\n",
    "            'cost_function':[\n",
    "                {\n",
    "                    'function':'ncc',\n",
    "                    'weight':1.0,\n",
    "                    'radius':3\n",
    "                }]\n",
    "        }]\n",
    "}"
   ]
  },
  {
   "cell_type": "code",
   "execution_count": null,
   "id": "3d78fca5-b8ef-4fe0-853b-97a54c7cc437",
   "metadata": {
    "tags": []
   },
   "outputs": [],
   "source": [
    "# make ray function for parallel\n",
    "@ray.remote(num_gpus=0.5)\n",
    "def chunk_wise_registration(chunk_position, displacement_overlap, fix_overlap, mov_l, settings, displacement_zarr, registered_mov_zarr, num_threads, use_gpu):\n",
    "    mFISHwarp.register.chunk_wise_registration(chunk_position, displacement_overlap, fix_overlap, mov_l, settings, displacement_zarr, registered_mov_zarr, num_threads, use_gpu)\n",
    "    \n",
    "@ray.remote(num_gpus=0.5)\n",
    "def chunk_wise_no_registration(chunk_position, displacement_overlap, fix_overlap, displacement_zarr, registered_mov_zarr):\n",
    "    mFISHwarp.register.chunk_wise_no_registration(chunk_position, displacement_overlap, fix_overlap, displacement_zarr, registered_mov_zarr)\n",
    "    \n",
    "# put large object for ray.\n",
    "displacement_overlap_id = ray.put(displacement_overlap)"
   ]
  },
  {
   "cell_type": "code",
   "execution_count": null,
   "id": "c93a3edb-5e63-4b3f-a176-21e77775de86",
   "metadata": {
    "tags": []
   },
   "outputs": [],
   "source": [
    "# run chunk-wise registration\n",
    "num_threads=24 # more is faster\n",
    "use_gpu=True\n",
    "\n",
    "for index in list(np.ndindex(*fix_da.numblocks)):\n",
    "    if flag_array[index]:\n",
    "        chunk_wise_registration.remote(index, displacement_overlap_id, fix_overlap, mov_l, settings, displacement_zarr, registered_mov_zarr, num_threads,use_gpu)\n",
    "    else:\n",
    "        chunk_wise_no_registration.remote(index,displacement_overlap_id, fix_overlap, displacement_zarr, registered_mov_zarr)"
   ]
  },
  {
   "cell_type": "code",
   "execution_count": null,
   "id": "cdef09db-08c0-4a6d-a44a-b4d105d2d3c7",
   "metadata": {},
   "outputs": [],
   "source": [
    "#"
   ]
  },
  {
   "cell_type": "code",
   "execution_count": null,
   "id": "896e3e50-0c07-4c26-b6c6-f1d6c5db67e4",
   "metadata": {},
   "outputs": [],
   "source": []
  }
 ],
 "metadata": {
  "kernelspec": {
   "display_name": "deform",
   "language": "python",
   "name": "deform"
  },
  "language_info": {
   "codemirror_mode": {
    "name": "ipython",
    "version": 3
   },
   "file_extension": ".py",
   "mimetype": "text/x-python",
   "name": "python",
   "nbconvert_exporter": "python",
   "pygments_lexer": "ipython3",
   "version": "3.8.12"
  }
 },
 "nbformat": 4,
 "nbformat_minor": 5
}
