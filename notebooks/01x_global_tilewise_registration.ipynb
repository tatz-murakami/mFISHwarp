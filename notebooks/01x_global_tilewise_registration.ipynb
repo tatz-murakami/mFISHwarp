{
 "cells": [
  {
   "cell_type": "code",
   "execution_count": null,
   "id": "e3678af7-e66b-48cc-897d-ee37ea9cd928",
   "metadata": {},
   "outputs": [],
   "source": [
    "import os\n",
    "os.environ[\"CUDA_DEVICE_ORDER\"]=\"PCI_BUS_ID\"\n",
    "os.environ[\"CUDA_VISIBLE_DEVICES\"]=\"0\"\n",
    "\n",
    "import numpy as np\n",
    "import napari\n",
    "import dask.array as da\n",
    "import pydeform.sitk_api as pydeform\n",
    "import SimpleITK as sitk\n",
    "\n",
    "import zarr\n",
    "\n",
    "import mFISHwarp.register\n",
    "import mFISHwarp.transform\n",
    "\n",
    "from skimage import io"
   ]
  },
  {
   "cell_type": "code",
   "execution_count": null,
   "id": "8a19586d-afbb-4be2-97f2-657fa7c3b15f",
   "metadata": {},
   "outputs": [],
   "source": [
    "# set path\n",
    "io_path = '/mnt/ampa02_data01/tmurakami/MK_administration/240620_03_MX002-1/registration'\n",
    "fix_n5_path = '/mnt/ampa02_data01/tmurakami/MK_administration/240620_03_MX002-1/fused/fused.n5' # zarr with pyramid resolution\n",
    "mov_n5_path = '/mnt/ampa02_data01/tmurakami/MK_administration/240710_03_MX002-2/fused/fused.n5'\n",
    "\n",
    "# create IO directory\n",
    "if not os.path.isdir(io_path):\n",
    "    os.makedirs(io_path)\n",
    "\n",
    "# create Zarr file object\n",
    "fix_zarr = zarr.open(store=zarr.N5Store(fix_n5_path), mode='r')\n",
    "mov_zarr = zarr.open(store=zarr.N5Store(mov_n5_path), mode='r')\n",
    "\n",
    "# load low resolution images as numpy\n",
    "fix_s = fix_zarr['setup3']['timepoint0']['s3'][:] # eight times downsampling\n",
    "mov_s = mov_zarr['setup3']['timepoint0']['s3'][:]\n",
    "\n",
    "# load higher resolution images as dask\n",
    "fix_l = da.from_zarr(fix_zarr['setup3']['timepoint0']['s2'])\n",
    "mov_l = mov_zarr['setup3']['timepoint0']['s2']"
   ]
  },
  {
   "cell_type": "markdown",
   "id": "4c2fe5eb-4eb5-4df1-96e7-1b6701768ed6",
   "metadata": {},
   "source": [
    "## Global affine registration"
   ]
  },
  {
   "cell_type": "code",
   "execution_count": null,
   "id": "10e0364d-7329-4c78-88bc-eac64c1ff6c7",
   "metadata": {},
   "outputs": [],
   "source": [
    "%%time\n",
    "# affine registration\n",
    "affine_transform = mFISHwarp.register.affine_registration(\n",
    "    fix_s, mov_s,\n",
    "    initial_rotation=None,\n",
    "    initial_scaling=None,\n",
    "    shrinking_factors=(32, 16, 8, 4), # shrinking factor determine the resolution of the registration.\n",
    "    smoothing=(4, 4, 2, 1),\n",
    "    model='affine'\n",
    ")\n",
    "\n",
    "# apply transformation\n",
    "mov_affine = mFISHwarp.register.affine_warping(fix_s, mov_s, affine_transform)"
   ]
  },
  {
   "cell_type": "code",
   "execution_count": null,
   "id": "11313113-76bb-4eaf-a7e5-e8db9b32a929",
   "metadata": {},
   "outputs": [],
   "source": [
    "viewer = napari.Viewer()\n",
    "viewer.add_image(fix_s, contrast_limits=[0,5000], rgb=False, name='fix', colormap='green', blending='additive')\n",
    "viewer.add_image(mov_s, contrast_limits=[0,5000], rgb=False, name='mov', colormap='yellow', blending='additive')\n",
    "viewer.add_image(mov_affine, contrast_limits=[0,5000], rgb=False, name='mov_affine', colormap='magenta', blending='additive')"
   ]
  },
  {
   "cell_type": "code",
   "execution_count": null,
   "id": "525820ec-63ec-496a-aa8b-10bd58fe1c29",
   "metadata": {},
   "outputs": [],
   "source": [
    "io.imsave(os.path.join(io_path,'fix_s.tif'),fix_s, check_contrast=False)\n",
    "io.imsave(os.path.join(io_path,'mov_s.tif'),mov_s, check_contrast=False)\n",
    "io.imsave(os.path.join(io_path,'mov_affine.tif'), mov_affine.astype(np.uint16), check_contrast=False)"
   ]
  },
  {
   "cell_type": "code",
   "execution_count": null,
   "id": "628eb612-931c-4380-9f1f-44b60f7830b5",
   "metadata": {},
   "outputs": [],
   "source": [
    "# convert affine to displacement field \n",
    "\n",
    "size = fix_s.shape[::-1]\n",
    "spacing = [1.0, 1.0, 1.0]\n",
    "origin = [0.0, 0.0, 0.0]\n",
    "direction = [1, 0, 0, 0, 1, 0, 0, 0, 1]\n",
    "\n",
    "# Convert the affine transform to a displacement field\n",
    "displacement_field = sitk.TransformToDisplacementField(affine_transform, sitk.sitkVectorFloat64, size, origin, spacing, direction)\n",
    "# convert itk to numpy array.\n",
    "relative_displacement = mFISHwarp.transform.displacement_itk2numpy(displacement_field)\n",
    "# convert the relative displacement array to scaled positional displacement array\n",
    "positional_displacement = mFISHwarp.transform.relative2positional(relative_displacement)"
   ]
  },
  {
   "cell_type": "markdown",
   "id": "accc0006-a13d-428d-b24b-5e7a079acd3d",
   "metadata": {},
   "source": [
    "### Upsampling of lower-resolution affine to higher-resolution displacement"
   ]
  },
  {
   "cell_type": "code",
   "execution_count": null,
   "id": "74b78a3b-84ee-4fed-8520-e65b8c7334fa",
   "metadata": {
    "tags": []
   },
   "outputs": [],
   "source": [
    "import math\n",
    "# set rescale factors\n",
    "target_shape = fix_l.shape\n",
    "rescale_constant = tuple((np.array(target_shape) / np.array(relative_displacement.shape[:-1])).round().astype(int)) # upsampling ratio in zyx\n",
    "# specify the chunk size and overlaps\n",
    "out_chunk_size = [math.ceil(i/2) for i in target_shape]\n",
    "out_chunk_size = [int(math.ceil(i/j)*j) for i,j in zip(out_chunk_size, rescale_constant)]\n",
    "out_overlap=(64, 64, 64)\n",
    "\n",
    "\n",
    "fix_da = da.rechunk(fix_l,chunks=out_chunk_size)\n",
    "fix_overlap = da.overlap.overlap(fix_da,depth=out_overlap,boundary=0)\n",
    "\n",
    "# get chunk size of fixed with overlaps\n",
    "overlap_chunk_size = mFISHwarp.utils.chunks_from_dask(fix_overlap)\n",
    "\n",
    "# upscale the displacement field and make overlaps\n",
    "displacement_overlap = mFISHwarp.transform.upscale_displacement_overlap(\n",
    "    positional_displacement,\n",
    "    rescale_constant,\n",
    "    out_chunk_size=out_chunk_size,\n",
    "    out_overlap=out_overlap\n",
    ")"
   ]
  },
  {
   "cell_type": "code",
   "execution_count": null,
   "id": "c6e15d04-d3e9-4e80-bea6-704db5c8c36c",
   "metadata": {
    "tags": []
   },
   "outputs": [],
   "source": [
    "# Set zarr path for registered moving image.\n",
    "registered_mov_zarr = zarr.open(\n",
    "    os.path.join(io_path, 'transformed_lowres.zarr'), \n",
    "    mode='w-', \n",
    "    shape=target_shape, \n",
    "    chunks=out_chunk_size, \n",
    "    dtype=np.uint16\n",
    ")\n",
    "# Or, registered_mov_zarr = None\n",
    "\n",
    "# Set zarr path for displacement map.\n",
    "displacement_shape = fix_overlap.shape + (fix_da.ndim,)\n",
    "displacement_zarr = zarr.open(\n",
    "    os.path.join(io_path, 'displacements_lowres_overlap.zarr'), \n",
    "    mode='w-', \n",
    "    shape=displacement_shape, \n",
    "    chunks=overlap_chunk_size+(fix_da.ndim,), \n",
    "    dtype=displacement_overlap.dtype\n",
    ")\n",
    "\n",
    "# add attribute so that I can know the overlap size later.\n",
    "displacement_zarr.attrs.update({\"overlaps\": out_overlap+(0,)})"
   ]
  },
  {
   "cell_type": "code",
   "execution_count": null,
   "id": "87c22082-0c91-4e0b-a193-8baabf720bbc",
   "metadata": {},
   "outputs": [],
   "source": [
    "# set parameters for non linear registration\n",
    "settings = {\n",
    "    'pyramid_levels':1, \n",
    "    'pyramid_stop_level': 0, # if the computation takes too long time, reduce the resolution by increasing the number.\n",
    "    'step_size': [1.0, 1.0, 1.0], # [1.0,1.0,1.0] seems enough. more than that will degrade the quality\n",
    "    'block_size': [32,32,32],\n",
    "    'block_energy_epsilon':1e-7,\n",
    "    'max_iteration_count':-1,\n",
    "    'constraints_weight':1000.0,\n",
    "    'regularization_weight': 0.25, # default 0.25\n",
    "    'regularization_scale': 1.0, # default 1.0\n",
    "    'regularization_exponent': 2.0, # default 2.0\n",
    "    'image_slots': \n",
    "    [\n",
    "        {\n",
    "            'resampler': 'gaussian',\n",
    "            'normalize': True,\n",
    "            'cost_function':\n",
    "            [\n",
    "                {\n",
    "                    'function':'ncc',\n",
    "                    'weight':1.0,\n",
    "                    'radius':3 # 3 was better than 7. do not know why.\n",
    "                }\n",
    "            ]\n",
    "        }\n",
    "    ]\n",
    "}"
   ]
  },
  {
   "cell_type": "code",
   "execution_count": null,
   "id": "282e2412-1b23-4a4d-8c8e-cad6030a8543",
   "metadata": {
    "tags": []
   },
   "outputs": [],
   "source": [
    "# run chunk-wise registration\n",
    "num_threads=32 # more is faster\n",
    "use_gpu=True\n",
    "\n",
    "for index in list(np.ndindex(*fix_da.numblocks)):\n",
    "    mFISHwarp.register.chunk_wise_affine_deform_registration(index, displacement_overlap, fix_overlap, mov_l, settings, displacement_zarr, registered_mov_zarr, num_threads, use_gpu)"
   ]
  },
  {
   "cell_type": "code",
   "execution_count": null,
   "id": "d9c9a9ed-2f7c-4614-8bef-a365409e01ac",
   "metadata": {},
   "outputs": [],
   "source": []
  }
 ],
 "metadata": {
  "kernelspec": {
   "display_name": "deform",
   "language": "python",
   "name": "deform"
  },
  "language_info": {
   "codemirror_mode": {
    "name": "ipython",
    "version": 3
   },
   "file_extension": ".py",
   "mimetype": "text/x-python",
   "name": "python",
   "nbconvert_exporter": "python",
   "pygments_lexer": "ipython3",
   "version": "3.8.12"
  }
 },
 "nbformat": 4,
 "nbformat_minor": 5
}
